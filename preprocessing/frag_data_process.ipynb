{
 "cells": [
  {
   "cell_type": "raw",
   "metadata": {},
   "source": [
    "Pre-Processing of fragrance data to make it ready for content-based recoomendation"
   ]
  },
  {
   "cell_type": "code",
   "execution_count": 1,
   "metadata": {},
   "outputs": [],
   "source": [
    "#importing the libraries\n",
    "import pandas as pd\n",
    "import numpy as np"
   ]
  },
  {
   "cell_type": "code",
   "execution_count": 2,
   "metadata": {},
   "outputs": [],
   "source": [
    "#importing sklearn libraries for onehotencoding\n",
    "from sklearn.preprocessing import LabelEncoder\n",
    "from sklearn.preprocessing import OneHotEncoder"
   ]
  },
  {
   "cell_type": "code",
   "execution_count": 3,
   "metadata": {},
   "outputs": [],
   "source": [
    "#getting the data\n",
    "fragrance= pd.read_csv('perfume.csv')"
   ]
  },
  {
   "cell_type": "code",
   "execution_count": 4,
   "metadata": {},
   "outputs": [],
   "source": [
    "#initial exploratory assessment of fragrance data"
   ]
  },
  {
   "cell_type": "code",
   "execution_count": 5,
   "metadata": {},
   "outputs": [
    {
     "name": "stdout",
     "output_type": "stream",
     "text": [
      "head of the data:\n"
     ]
    },
    {
     "data": {
      "text/html": [
       "<div>\n",
       "<style scoped>\n",
       "    .dataframe tbody tr th:only-of-type {\n",
       "        vertical-align: middle;\n",
       "    }\n",
       "\n",
       "    .dataframe tbody tr th {\n",
       "        vertical-align: top;\n",
       "    }\n",
       "\n",
       "    .dataframe thead th {\n",
       "        text-align: right;\n",
       "    }\n",
       "</style>\n",
       "<table border=\"1\" class=\"dataframe\">\n",
       "  <thead>\n",
       "    <tr style=\"text-align: right;\">\n",
       "      <th></th>\n",
       "      <th>brand</th>\n",
       "      <th>title</th>\n",
       "      <th>date</th>\n",
       "      <th>accords</th>\n",
       "      <th>rating_score</th>\n",
       "      <th>votes</th>\n",
       "      <th>longevity_poor</th>\n",
       "      <th>longevity_weak</th>\n",
       "      <th>longevity_moderate</th>\n",
       "      <th>longevity_long</th>\n",
       "      <th>...</th>\n",
       "      <th>notes_12</th>\n",
       "      <th>notes_13</th>\n",
       "      <th>notes_14</th>\n",
       "      <th>notes_15</th>\n",
       "      <th>notes_16</th>\n",
       "      <th>notes_17</th>\n",
       "      <th>notes_18</th>\n",
       "      <th>notes_19</th>\n",
       "      <th>notes_20</th>\n",
       "      <th>gender</th>\n",
       "    </tr>\n",
       "  </thead>\n",
       "  <tbody>\n",
       "    <tr>\n",
       "      <th>0</th>\n",
       "      <td>The-Spirit-of-Dubai</td>\n",
       "      <td>Aamal The Spirit of Dubai for women and men</td>\n",
       "      <td>2017</td>\n",
       "      <td>woody,earthy,animalic,amber,musky,balsamic</td>\n",
       "      <td>5.0</td>\n",
       "      <td>3</td>\n",
       "      <td>0</td>\n",
       "      <td>0</td>\n",
       "      <td>0</td>\n",
       "      <td>0</td>\n",
       "      <td>...</td>\n",
       "      <td>Base3Moss</td>\n",
       "      <td>Base4Agarwood (Oud)</td>\n",
       "      <td>Base5Indian Oud</td>\n",
       "      <td>NaN</td>\n",
       "      <td>NaN</td>\n",
       "      <td>NaN</td>\n",
       "      <td>NaN</td>\n",
       "      <td>NaN</td>\n",
       "      <td>NaN</td>\n",
       "      <td>women</td>\n",
       "    </tr>\n",
       "    <tr>\n",
       "      <th>1</th>\n",
       "      <td>Ajmal</td>\n",
       "      <td>Aatifa Ajmal for women and men</td>\n",
       "      <td>2014</td>\n",
       "      <td>fresh spicy,woody,musky,rose,amber</td>\n",
       "      <td>4.2</td>\n",
       "      <td>10</td>\n",
       "      <td>1</td>\n",
       "      <td>0</td>\n",
       "      <td>0</td>\n",
       "      <td>0</td>\n",
       "      <td>...</td>\n",
       "      <td>NaN</td>\n",
       "      <td>NaN</td>\n",
       "      <td>NaN</td>\n",
       "      <td>NaN</td>\n",
       "      <td>NaN</td>\n",
       "      <td>NaN</td>\n",
       "      <td>NaN</td>\n",
       "      <td>NaN</td>\n",
       "      <td>NaN</td>\n",
       "      <td>women</td>\n",
       "    </tr>\n",
       "    <tr>\n",
       "      <th>2</th>\n",
       "      <td>Al-Jazeera-Perfumes</td>\n",
       "      <td>AA Al-Jazeera Perfumes for women and men</td>\n",
       "      <td>0</td>\n",
       "      <td>rose,woody,musky,oud,fruity</td>\n",
       "      <td>0.0</td>\n",
       "      <td>0</td>\n",
       "      <td>0</td>\n",
       "      <td>0</td>\n",
       "      <td>0</td>\n",
       "      <td>0</td>\n",
       "      <td>...</td>\n",
       "      <td>NaN</td>\n",
       "      <td>NaN</td>\n",
       "      <td>NaN</td>\n",
       "      <td>NaN</td>\n",
       "      <td>NaN</td>\n",
       "      <td>NaN</td>\n",
       "      <td>NaN</td>\n",
       "      <td>NaN</td>\n",
       "      <td>NaN</td>\n",
       "      <td>women</td>\n",
       "    </tr>\n",
       "    <tr>\n",
       "      <th>3</th>\n",
       "      <td>Art-of-Scent-Swiss-Perfumes</td>\n",
       "      <td>aarewasser Art of Scent - Swiss Perfumes for w...</td>\n",
       "      <td>2010</td>\n",
       "      <td>white floral,green,ozonic,fresh,animalic</td>\n",
       "      <td>0.0</td>\n",
       "      <td>1</td>\n",
       "      <td>0</td>\n",
       "      <td>0</td>\n",
       "      <td>0</td>\n",
       "      <td>0</td>\n",
       "      <td>...</td>\n",
       "      <td>NaN</td>\n",
       "      <td>NaN</td>\n",
       "      <td>NaN</td>\n",
       "      <td>NaN</td>\n",
       "      <td>NaN</td>\n",
       "      <td>NaN</td>\n",
       "      <td>NaN</td>\n",
       "      <td>NaN</td>\n",
       "      <td>NaN</td>\n",
       "      <td>women</td>\n",
       "    </tr>\n",
       "    <tr>\n",
       "      <th>4</th>\n",
       "      <td>Hamidi-Oud-Perfumes</td>\n",
       "      <td>Aaliyah Hamidi Oud &amp; Perfumes for women and men</td>\n",
       "      <td>0</td>\n",
       "      <td>woody,warm spicy,amber,balsamic,musky</td>\n",
       "      <td>0.0</td>\n",
       "      <td>2</td>\n",
       "      <td>0</td>\n",
       "      <td>0</td>\n",
       "      <td>0</td>\n",
       "      <td>0</td>\n",
       "      <td>...</td>\n",
       "      <td>NaN</td>\n",
       "      <td>NaN</td>\n",
       "      <td>NaN</td>\n",
       "      <td>NaN</td>\n",
       "      <td>NaN</td>\n",
       "      <td>NaN</td>\n",
       "      <td>NaN</td>\n",
       "      <td>NaN</td>\n",
       "      <td>NaN</td>\n",
       "      <td>women</td>\n",
       "    </tr>\n",
       "  </tbody>\n",
       "</table>\n",
       "<p>5 rows × 86 columns</p>\n",
       "</div>"
      ],
      "text/plain": [
       "                         brand  \\\n",
       "0          The-Spirit-of-Dubai   \n",
       "1                        Ajmal   \n",
       "2          Al-Jazeera-Perfumes   \n",
       "3  Art-of-Scent-Swiss-Perfumes   \n",
       "4          Hamidi-Oud-Perfumes   \n",
       "\n",
       "                                               title  date  \\\n",
       "0        Aamal The Spirit of Dubai for women and men  2017   \n",
       "1                     Aatifa Ajmal for women and men  2014   \n",
       "2           AA Al-Jazeera Perfumes for women and men     0   \n",
       "3  aarewasser Art of Scent - Swiss Perfumes for w...  2010   \n",
       "4    Aaliyah Hamidi Oud & Perfumes for women and men     0   \n",
       "\n",
       "                                      accords  rating_score  votes  \\\n",
       "0  woody,earthy,animalic,amber,musky,balsamic           5.0      3   \n",
       "1          fresh spicy,woody,musky,rose,amber           4.2     10   \n",
       "2                 rose,woody,musky,oud,fruity           0.0      0   \n",
       "3    white floral,green,ozonic,fresh,animalic           0.0      1   \n",
       "4       woody,warm spicy,amber,balsamic,musky           0.0      2   \n",
       "\n",
       "   longevity_poor  longevity_weak  longevity_moderate  longevity_long  ...  \\\n",
       "0               0               0                   0               0  ...   \n",
       "1               1               0                   0               0  ...   \n",
       "2               0               0                   0               0  ...   \n",
       "3               0               0                   0               0  ...   \n",
       "4               0               0                   0               0  ...   \n",
       "\n",
       "    notes_12             notes_13         notes_14  notes_15  notes_16  \\\n",
       "0  Base3Moss  Base4Agarwood (Oud)  Base5Indian Oud       NaN       NaN   \n",
       "1        NaN                  NaN              NaN       NaN       NaN   \n",
       "2        NaN                  NaN              NaN       NaN       NaN   \n",
       "3        NaN                  NaN              NaN       NaN       NaN   \n",
       "4        NaN                  NaN              NaN       NaN       NaN   \n",
       "\n",
       "   notes_17  notes_18  notes_19  notes_20  gender  \n",
       "0       NaN       NaN       NaN       NaN   women  \n",
       "1       NaN       NaN       NaN       NaN   women  \n",
       "2       NaN       NaN       NaN       NaN   women  \n",
       "3       NaN       NaN       NaN       NaN   women  \n",
       "4       NaN       NaN       NaN       NaN   women  \n",
       "\n",
       "[5 rows x 86 columns]"
      ]
     },
     "execution_count": 5,
     "metadata": {},
     "output_type": "execute_result"
    }
   ],
   "source": [
    "print('head of the data:')\n",
    "fragrance.head()"
   ]
  },
  {
   "cell_type": "code",
   "execution_count": 6,
   "metadata": {},
   "outputs": [
    {
     "name": "stdout",
     "output_type": "stream",
     "text": [
      "<class 'pandas.core.frame.DataFrame'>\n",
      "RangeIndex: 51212 entries, 0 to 51211\n",
      "Data columns (total 86 columns):\n",
      "brand                       51212 non-null object\n",
      "title                       51212 non-null object\n",
      "date                        51212 non-null int64\n",
      "accords                     50268 non-null object\n",
      "rating_score                51212 non-null float64\n",
      "votes                       51212 non-null int64\n",
      "longevity_poor              51212 non-null int64\n",
      "longevity_weak              51212 non-null int64\n",
      "longevity_moderate          51212 non-null int64\n",
      "longevity_long              51212 non-null int64\n",
      "longevity_very_long         51212 non-null int64\n",
      "sillage_soft                51212 non-null int64\n",
      "sillage_moderate            51212 non-null int64\n",
      "sillage_heavy               51212 non-null int64\n",
      "sillage_enormous            51212 non-null int64\n",
      "clslove                     51212 non-null int64\n",
      "clslike                     51212 non-null int64\n",
      "clsdislike                  51212 non-null int64\n",
      "clswinter                   51212 non-null int64\n",
      "clsspring                   51212 non-null int64\n",
      "clssummer                   51212 non-null int64\n",
      "clsautumn                   51212 non-null int64\n",
      "clscold                     51212 non-null int64\n",
      "clshot                      51212 non-null int64\n",
      "clsday                      51212 non-null int64\n",
      "clsnight                    51212 non-null int64\n",
      "clslove_female25under       51212 non-null int64\n",
      "clslove_male25under         51212 non-null int64\n",
      "clslove_female25older       51212 non-null int64\n",
      "clslove_male25older         51212 non-null int64\n",
      "clslike_female25under       51212 non-null int64\n",
      "clslike_male25under         51212 non-null int64\n",
      "clslike_female25older       51212 non-null int64\n",
      "clslike_male25older         51212 non-null int64\n",
      "clsdislike_female25under    51212 non-null int64\n",
      "clsdislike_male25under      51212 non-null int64\n",
      "clsdislike_female25older    51212 non-null int64\n",
      "clsdislike_male25older      51212 non-null int64\n",
      "clswinter_female25under     51212 non-null int64\n",
      "clswinter_male25under       51212 non-null int64\n",
      "clswinter_female25older     51212 non-null int64\n",
      "clswinter_male25older       51212 non-null int64\n",
      "clsspring_female25under     51212 non-null int64\n",
      "clsspring_male25under       51212 non-null int64\n",
      "clsspring_female25older     51212 non-null int64\n",
      "clsspring_male25older       51212 non-null int64\n",
      "clssummer_female25under     51212 non-null int64\n",
      "clssummer_male25under       51212 non-null int64\n",
      "clssummer_female25older     51212 non-null int64\n",
      "clssummer_male25older       51212 non-null int64\n",
      "clsautumn_female25under     51212 non-null int64\n",
      "clsautumn_male25under       51212 non-null int64\n",
      "clsautumn_female25older     51212 non-null int64\n",
      "clsautumn_male25older       51212 non-null int64\n",
      "clsday_female25under        51212 non-null int64\n",
      "clsday_male25under          51212 non-null int64\n",
      "clsday_female25older        51212 non-null int64\n",
      "clsday_male25older          51212 non-null int64\n",
      "clsnight_female25under      51212 non-null int64\n",
      "clsnight_male25under        51212 non-null int64\n",
      "clsnight_female25older      51212 non-null int64\n",
      "clsnight_male25older        51212 non-null int64\n",
      "Ihaveit                     51212 non-null float64\n",
      "Ihadit                      51212 non-null float64\n",
      "Iwantit                     51212 non-null float64\n",
      "notes_1                     51212 non-null object\n",
      "notes_2                     51212 non-null object\n",
      "notes_3                     47488 non-null object\n",
      "notes_4                     44767 non-null object\n",
      "notes_5                     40750 non-null object\n",
      "notes_6                     35867 non-null object\n",
      "notes_7                     30826 non-null object\n",
      "notes_8                     25503 non-null object\n",
      "notes_9                     18558 non-null object\n",
      "notes_10                    13791 non-null object\n",
      "notes_11                    10210 non-null object\n",
      "notes_12                    7421 non-null object\n",
      "notes_13                    5489 non-null object\n",
      "notes_14                    4084 non-null object\n",
      "notes_15                    3145 non-null object\n",
      "notes_16                    2422 non-null object\n",
      "notes_17                    1853 non-null object\n",
      "notes_18                    1415 non-null object\n",
      "notes_19                    1063 non-null object\n",
      "notes_20                    828 non-null object\n",
      "gender                      40733 non-null object\n",
      "dtypes: float64(4), int64(58), object(24)\n",
      "memory usage: 33.6+ MB\n"
     ]
    }
   ],
   "source": [
    "fragrance.info()"
   ]
  },
  {
   "cell_type": "code",
   "execution_count": 7,
   "metadata": {},
   "outputs": [
    {
     "data": {
      "text/plain": [
       "Index(['brand', 'title', 'date', 'accords', 'rating_score', 'votes',\n",
       "       'longevity_poor', 'longevity_weak', 'longevity_moderate',\n",
       "       'longevity_long', 'longevity_very_long', 'sillage_soft',\n",
       "       'sillage_moderate', 'sillage_heavy', 'sillage_enormous', 'clslove',\n",
       "       'clslike', 'clsdislike', 'clswinter', 'clsspring', 'clssummer',\n",
       "       'clsautumn', 'clscold', 'clshot', 'clsday', 'clsnight',\n",
       "       'clslove_female25under', 'clslove_male25under', 'clslove_female25older',\n",
       "       'clslove_male25older', 'clslike_female25under', 'clslike_male25under',\n",
       "       'clslike_female25older', 'clslike_male25older',\n",
       "       'clsdislike_female25under', 'clsdislike_male25under',\n",
       "       'clsdislike_female25older', 'clsdislike_male25older',\n",
       "       'clswinter_female25under', 'clswinter_male25under',\n",
       "       'clswinter_female25older', 'clswinter_male25older',\n",
       "       'clsspring_female25under', 'clsspring_male25under',\n",
       "       'clsspring_female25older', 'clsspring_male25older',\n",
       "       'clssummer_female25under', 'clssummer_male25under',\n",
       "       'clssummer_female25older', 'clssummer_male25older',\n",
       "       'clsautumn_female25under', 'clsautumn_male25under',\n",
       "       'clsautumn_female25older', 'clsautumn_male25older',\n",
       "       'clsday_female25under', 'clsday_male25under', 'clsday_female25older',\n",
       "       'clsday_male25older', 'clsnight_female25under', 'clsnight_male25under',\n",
       "       'clsnight_female25older', 'clsnight_male25older', 'Ihaveit', 'Ihadit',\n",
       "       'Iwantit', 'notes_1', 'notes_2', 'notes_3', 'notes_4', 'notes_5',\n",
       "       'notes_6', 'notes_7', 'notes_8', 'notes_9', 'notes_10', 'notes_11',\n",
       "       'notes_12', 'notes_13', 'notes_14', 'notes_15', 'notes_16', 'notes_17',\n",
       "       'notes_18', 'notes_19', 'notes_20', 'gender'],\n",
       "      dtype='object')"
      ]
     },
     "execution_count": 7,
     "metadata": {},
     "output_type": "execute_result"
    }
   ],
   "source": [
    "fragrance.columns"
   ]
  },
  {
   "cell_type": "markdown",
   "metadata": {},
   "source": [
    "For the recommendation purpose, we will focus on perfumes which are rated by a substantial number of users.\n",
    "When the perfumes are reviewed by few users, the review results could be highly biased.\n",
    "Usuually first reviewers could be celebrities in the industry, getting it as gift from brands and it could cause unintended review bias."
   ]
  },
  {
   "cell_type": "code",
   "execution_count": 8,
   "metadata": {},
   "outputs": [],
   "source": [
    "fragrance=fragrance[(fragrance['votes']>200)]"
   ]
  },
  {
   "cell_type": "code",
   "execution_count": 9,
   "metadata": {},
   "outputs": [],
   "source": [
    "#resetting the index back to start from 0 after dropping the ones with less than 200 votes\n",
    "fragrance = fragrance.reset_index()"
   ]
  },
  {
   "cell_type": "markdown",
   "metadata": {},
   "source": [
    "The accord list of a perfume is one of the main component showing its category.\n",
    "People's test is perfumes usually shows itself in the perfume accords they prefer."
   ]
  },
  {
   "cell_type": "code",
   "execution_count": 10,
   "metadata": {},
   "outputs": [
    {
     "name": "stdout",
     "output_type": "stream",
     "text": [
      "sample accords:\n"
     ]
    },
    {
     "data": {
      "text/plain": [
       "0       fruity,patchouli,woody,earthy,sweet,citrus,Vid...\n",
       "1       fruity,woody,sweet,balsamic,yellow floral,Pict...\n",
       "2       fruity,sweet,white floral,patchouli,citrus,Vid...\n",
       "3           fruity,sweet,vanilla,almond,balsamic,Pictures\n",
       "4          fruity,rose,sweet,citrus,white floral,Pictures\n",
       "                              ...                        \n",
       "4272    tuberose,balsamic,white floral,vanilla,rum,swe...\n",
       "4273     woody,floral,powdery,fruity,rose,citrus,Pictures\n",
       "4274    green,woody,aromatic,amber,fresh spicy,Videos,...\n",
       "4275     woody,balsamic,powdery,vanilla,rose,white floral\n",
       "4276    tobacco,oud,warm spicy,woody,animalic,amber,Pi...\n",
       "Name: accords, Length: 4277, dtype: object"
      ]
     },
     "execution_count": 10,
     "metadata": {},
     "output_type": "execute_result"
    }
   ],
   "source": [
    "#showing fragrance accords \n",
    "print('sample accords:')\n",
    "fragrance['accords']"
   ]
  },
  {
   "cell_type": "markdown",
   "metadata": {},
   "source": [
    "The accords column consist of a long string with numerous accords listed for each perfume, sorted by the number of people who found the perfume to be in this category.\n",
    "We are focusing on the top three accord for each perfume and extracting them to 3 new columns"
   ]
  },
  {
   "cell_type": "code",
   "execution_count": 11,
   "metadata": {},
   "outputs": [],
   "source": [
    "fragrance['accords'] = fragrance['accords'].apply(lambda x: x.split(','))"
   ]
  },
  {
   "cell_type": "code",
   "execution_count": 12,
   "metadata": {},
   "outputs": [
    {
     "name": "stdout",
     "output_type": "stream",
     "text": [
      "length of accords is 4277\n"
     ]
    }
   ],
   "source": [
    "l=len(fragrance['accords'])\n",
    "print('length of accords is '+ str(l))"
   ]
  },
  {
   "cell_type": "code",
   "execution_count": 13,
   "metadata": {},
   "outputs": [],
   "source": [
    "accord1 = (fragrance['accords'].iloc[0:l]).str.get(0)"
   ]
  },
  {
   "cell_type": "code",
   "execution_count": 14,
   "metadata": {},
   "outputs": [],
   "source": [
    "accord2 = (fragrance['accords'].iloc[0:l]).str.get(1)"
   ]
  },
  {
   "cell_type": "code",
   "execution_count": 15,
   "metadata": {},
   "outputs": [],
   "source": [
    "accord3 = (fragrance['accords'].iloc[0:l]).str.get(2)"
   ]
  },
  {
   "cell_type": "code",
   "execution_count": 16,
   "metadata": {},
   "outputs": [],
   "source": [
    "fragrance['accord1']=accord1"
   ]
  },
  {
   "cell_type": "code",
   "execution_count": 17,
   "metadata": {},
   "outputs": [],
   "source": [
    "fragrance['accord2']=accord2"
   ]
  },
  {
   "cell_type": "code",
   "execution_count": 18,
   "metadata": {},
   "outputs": [],
   "source": [
    "fragrance['accord3']=accord3"
   ]
  },
  {
   "cell_type": "markdown",
   "metadata": {},
   "source": [
    "Next step, only columns that would be used for content recommendation are kept in the cleaned data frame.\n",
    "Columns related to like/love/dislike are removed, as not independant from the rating column itself.\n",
    "Notes are removed, as they are captured in accords. Unique accords are in order of 60 distinct labels.\n",
    "Given the huge variety of notes, and considering they are categorial as well, these columns are removed as well."
   ]
  },
  {
   "cell_type": "code",
   "execution_count": 19,
   "metadata": {},
   "outputs": [],
   "source": [
    "frag_cl = fragrance[['brand', 'title', 'rating_score', \n",
    "       'longevity_poor', 'longevity_weak', 'longevity_moderate',\n",
    "       'longevity_long', 'longevity_very_long', 'sillage_soft',\n",
    "       'sillage_moderate', 'sillage_heavy', 'sillage_enormous','clswinter', 'clsspring', 'clssummer',\n",
    "       'clsautumn','clsday', 'clsnight', 'accord1', 'accord2', 'accord3']]"
   ]
  },
  {
   "cell_type": "markdown",
   "metadata": {},
   "source": [
    "Removing N/A values. As the numver of rows did not change, there was no N/A values."
   ]
  },
  {
   "cell_type": "code",
   "execution_count": 20,
   "metadata": {},
   "outputs": [],
   "source": [
    "fragcl = frag_cl.dropna()"
   ]
  },
  {
   "cell_type": "code",
   "execution_count": 21,
   "metadata": {},
   "outputs": [
    {
     "name": "stdout",
     "output_type": "stream",
     "text": [
      "<class 'pandas.core.frame.DataFrame'>\n",
      "RangeIndex: 4277 entries, 0 to 4276\n",
      "Data columns (total 21 columns):\n",
      "brand                  4277 non-null object\n",
      "title                  4277 non-null object\n",
      "rating_score           4277 non-null float64\n",
      "longevity_poor         4277 non-null int64\n",
      "longevity_weak         4277 non-null int64\n",
      "longevity_moderate     4277 non-null int64\n",
      "longevity_long         4277 non-null int64\n",
      "longevity_very_long    4277 non-null int64\n",
      "sillage_soft           4277 non-null int64\n",
      "sillage_moderate       4277 non-null int64\n",
      "sillage_heavy          4277 non-null int64\n",
      "sillage_enormous       4277 non-null int64\n",
      "clswinter              4277 non-null int64\n",
      "clsspring              4277 non-null int64\n",
      "clssummer              4277 non-null int64\n",
      "clsautumn              4277 non-null int64\n",
      "clsday                 4277 non-null int64\n",
      "clsnight               4277 non-null int64\n",
      "accord1                4277 non-null object\n",
      "accord2                4271 non-null object\n",
      "accord3                4266 non-null object\n",
      "dtypes: float64(1), int64(15), object(5)\n",
      "memory usage: 701.8+ KB\n"
     ]
    }
   ],
   "source": [
    "frag_cl.info()"
   ]
  },
  {
   "cell_type": "markdown",
   "metadata": {},
   "source": [
    "Comparing the number of votes per perfume with different ratings for longevity, sillage, season and daytime suitability, it is understood that a reviewer does not need to provide input for all the fields. \n",
    "Therefore for each category of voting, the proportional ratio of votes are calculated"
   ]
  },
  {
   "cell_type": "code",
   "execution_count": 22,
   "metadata": {},
   "outputs": [],
   "source": [
    "longevity_list = frag_cl[['longevity_poor','longevity_weak','longevity_moderate','longevity_long','longevity_very_long']]"
   ]
  },
  {
   "cell_type": "code",
   "execution_count": 23,
   "metadata": {},
   "outputs": [
    {
     "name": "stderr",
     "output_type": "stream",
     "text": [
      "<ipython-input-23-f26c1568c5b3>:1: SettingWithCopyWarning: \n",
      "A value is trying to be set on a copy of a slice from a DataFrame.\n",
      "Try using .loc[row_indexer,col_indexer] = value instead\n",
      "\n",
      "See the caveats in the documentation: http://pandas.pydata.org/pandas-docs/stable/user_guide/indexing.html#returning-a-view-versus-a-copy\n",
      "  frag_cl['longevity_rating'] = longevity_list.sum(axis=1)\n"
     ]
    }
   ],
   "source": [
    "frag_cl['longevity_rating'] = longevity_list.sum(axis=1)"
   ]
  },
  {
   "cell_type": "code",
   "execution_count": 24,
   "metadata": {},
   "outputs": [
    {
     "name": "stderr",
     "output_type": "stream",
     "text": [
      "C:\\Users\\mshak\\anaconda3\\lib\\site-packages\\pandas\\core\\frame.py:3509: SettingWithCopyWarning: \n",
      "A value is trying to be set on a copy of a slice from a DataFrame.\n",
      "Try using .loc[row_indexer,col_indexer] = value instead\n",
      "\n",
      "See the caveats in the documentation: http://pandas.pydata.org/pandas-docs/stable/user_guide/indexing.html#returning-a-view-versus-a-copy\n",
      "  self[k1] = value[k2]\n"
     ]
    }
   ],
   "source": [
    "frag_cl[['longevity_poor','longevity_weak','longevity_moderate','longevity_long','longevity_very_long']] = np.divide((frag_cl[['longevity_poor','longevity_weak','longevity_moderate','longevity_long','longevity_very_long']]),frag_cl[['longevity_rating']])"
   ]
  },
  {
   "cell_type": "code",
   "execution_count": 25,
   "metadata": {},
   "outputs": [],
   "source": [
    "sillage_list = frag_cl[['sillage_soft', 'sillage_moderate', 'sillage_heavy', 'sillage_enormous']]"
   ]
  },
  {
   "cell_type": "code",
   "execution_count": 26,
   "metadata": {},
   "outputs": [
    {
     "name": "stderr",
     "output_type": "stream",
     "text": [
      "<ipython-input-26-bd98587ec418>:1: SettingWithCopyWarning: \n",
      "A value is trying to be set on a copy of a slice from a DataFrame.\n",
      "Try using .loc[row_indexer,col_indexer] = value instead\n",
      "\n",
      "See the caveats in the documentation: http://pandas.pydata.org/pandas-docs/stable/user_guide/indexing.html#returning-a-view-versus-a-copy\n",
      "  frag_cl['sillage_rating'] = sillage_list.sum(axis=1)\n"
     ]
    }
   ],
   "source": [
    "frag_cl['sillage_rating'] = sillage_list.sum(axis=1)"
   ]
  },
  {
   "cell_type": "code",
   "execution_count": 27,
   "metadata": {},
   "outputs": [],
   "source": [
    "frag_cl[['sillage_soft', 'sillage_moderate', 'sillage_heavy', 'sillage_enormous']] = np.divide((frag_cl[['sillage_soft', 'sillage_moderate', 'sillage_heavy', 'sillage_enormous']]), frag_cl[['sillage_rating']])"
   ]
  },
  {
   "cell_type": "code",
   "execution_count": 28,
   "metadata": {},
   "outputs": [],
   "source": [
    "season_list = frag_cl[['clswinter', 'clsspring', 'clssummer', 'clsautumn']]"
   ]
  },
  {
   "cell_type": "code",
   "execution_count": 29,
   "metadata": {},
   "outputs": [
    {
     "name": "stderr",
     "output_type": "stream",
     "text": [
      "<ipython-input-29-1e5bee0c4b88>:1: SettingWithCopyWarning: \n",
      "A value is trying to be set on a copy of a slice from a DataFrame.\n",
      "Try using .loc[row_indexer,col_indexer] = value instead\n",
      "\n",
      "See the caveats in the documentation: http://pandas.pydata.org/pandas-docs/stable/user_guide/indexing.html#returning-a-view-versus-a-copy\n",
      "  frag_cl['season_rating'] = season_list.sum(axis=1)\n"
     ]
    }
   ],
   "source": [
    "frag_cl['season_rating'] = season_list.sum(axis=1)"
   ]
  },
  {
   "cell_type": "code",
   "execution_count": 30,
   "metadata": {},
   "outputs": [],
   "source": [
    "frag_cl[['clswinter', 'clsspring', 'clssummer', 'clsautumn']] = np.divide((frag_cl[['clswinter', 'clsspring', 'clssummer', 'clsautumn']]),frag_cl[['season_rating']])"
   ]
  },
  {
   "cell_type": "code",
   "execution_count": 31,
   "metadata": {},
   "outputs": [],
   "source": [
    "daytime_list = frag_cl[['clsday', 'clsnight']]"
   ]
  },
  {
   "cell_type": "code",
   "execution_count": 32,
   "metadata": {},
   "outputs": [
    {
     "name": "stderr",
     "output_type": "stream",
     "text": [
      "<ipython-input-32-4abe1ecfab10>:1: SettingWithCopyWarning: \n",
      "A value is trying to be set on a copy of a slice from a DataFrame.\n",
      "Try using .loc[row_indexer,col_indexer] = value instead\n",
      "\n",
      "See the caveats in the documentation: http://pandas.pydata.org/pandas-docs/stable/user_guide/indexing.html#returning-a-view-versus-a-copy\n",
      "  frag_cl['daytime_rating'] = frag_cl[['clsday', 'clsnight']].sum(axis=1)\n"
     ]
    }
   ],
   "source": [
    "frag_cl['daytime_rating'] = frag_cl[['clsday', 'clsnight']].sum(axis=1)"
   ]
  },
  {
   "cell_type": "code",
   "execution_count": 33,
   "metadata": {},
   "outputs": [],
   "source": [
    "frag_cl[['clsday', 'clsnight']] = np.divide((frag_cl[['clsday', 'clsnight']]),frag_cl[['daytime_rating']])"
   ]
  },
  {
   "cell_type": "code",
   "execution_count": 34,
   "metadata": {},
   "outputs": [],
   "source": [
    "frag_cl=frag_cl.drop(columns=['longevity_rating', 'sillage_rating', 'season_rating',\n",
    "       'daytime_rating'])"
   ]
  },
  {
   "cell_type": "markdown",
   "metadata": {},
   "source": [
    "All accord columns are categorical data, which needs to be converted to a form of numeric values through onehotencoding"
   ]
  },
  {
   "cell_type": "code",
   "execution_count": 35,
   "metadata": {},
   "outputs": [],
   "source": [
    "# instantiate labelencoder object\n",
    "le = LabelEncoder()"
   ]
  },
  {
   "cell_type": "code",
   "execution_count": 36,
   "metadata": {},
   "outputs": [],
   "source": [
    "frag_cl['accord1'] = frag_cl['accord1'].astype(str) "
   ]
  },
  {
   "cell_type": "code",
   "execution_count": 37,
   "metadata": {},
   "outputs": [],
   "source": [
    "frag_cl['accord2'] = frag_cl['accord2'].astype(str) "
   ]
  },
  {
   "cell_type": "code",
   "execution_count": 38,
   "metadata": {},
   "outputs": [],
   "source": [
    "frag_cl['accord3'] = frag_cl['accord3'].astype(str) "
   ]
  },
  {
   "cell_type": "code",
   "execution_count": 39,
   "metadata": {},
   "outputs": [],
   "source": [
    "accord1_new = frag_cl[['accord1']].apply(lambda col: le.fit_transform(col))"
   ]
  },
  {
   "cell_type": "code",
   "execution_count": 40,
   "metadata": {},
   "outputs": [],
   "source": [
    "accord2_new = frag_cl[['accord2']].apply(lambda col: le.fit_transform(col))"
   ]
  },
  {
   "cell_type": "code",
   "execution_count": 41,
   "metadata": {},
   "outputs": [],
   "source": [
    "accord3_new = frag_cl[['accord3']].apply(lambda col: le.fit_transform(col))"
   ]
  },
  {
   "cell_type": "code",
   "execution_count": 42,
   "metadata": {},
   "outputs": [],
   "source": [
    "onehot_encoder = OneHotEncoder(sparse=False)"
   ]
  },
  {
   "cell_type": "code",
   "execution_count": 43,
   "metadata": {},
   "outputs": [],
   "source": [
    "accord1_encoded = onehot_encoder.fit_transform(accord1_new)"
   ]
  },
  {
   "cell_type": "markdown",
   "metadata": {},
   "source": [
    "The columns for encoding accord1, accord2, and accord3 need to have unique values.\n",
    "Therefore continuing the numbering of the columns sequentially."
   ]
  },
  {
   "cell_type": "code",
   "execution_count": 44,
   "metadata": {},
   "outputs": [],
   "source": [
    "accord1column=range(fragrance['accord1'].nunique())"
   ]
  },
  {
   "cell_type": "code",
   "execution_count": 45,
   "metadata": {},
   "outputs": [],
   "source": [
    "accord2column=range(fragrance['accord1'].nunique(), fragrance['accord1'].nunique()+fragrance['accord2'].nunique()+1)"
   ]
  },
  {
   "cell_type": "code",
   "execution_count": 46,
   "metadata": {},
   "outputs": [],
   "source": [
    "accord3column=range(fragrance['accord1'].nunique()+fragrance['accord2'].nunique()+1,fragrance['accord1'].nunique()+fragrance['accord2'].nunique()+fragrance['accord3'].nunique()+2)"
   ]
  },
  {
   "cell_type": "code",
   "execution_count": 47,
   "metadata": {},
   "outputs": [],
   "source": [
    "accord1_hot_encoded = pd.DataFrame(accord1_encoded, columns = accord1column)"
   ]
  },
  {
   "cell_type": "code",
   "execution_count": 48,
   "metadata": {},
   "outputs": [],
   "source": [
    "accord2_encoded = onehot_encoder.fit_transform(accord2_new)"
   ]
  },
  {
   "cell_type": "code",
   "execution_count": 49,
   "metadata": {},
   "outputs": [],
   "source": [
    "accord2_hot_encoded = pd.DataFrame(accord2_encoded, columns = accord2column)"
   ]
  },
  {
   "cell_type": "code",
   "execution_count": 50,
   "metadata": {},
   "outputs": [],
   "source": [
    "accord3_encoded = onehot_encoder.fit_transform(accord3_new)"
   ]
  },
  {
   "cell_type": "code",
   "execution_count": 51,
   "metadata": {},
   "outputs": [],
   "source": [
    "accord3_hot_encoded = pd.DataFrame(accord3_encoded, columns = accord3column)"
   ]
  },
  {
   "cell_type": "code",
   "execution_count": 52,
   "metadata": {},
   "outputs": [],
   "source": [
    "#concatinating the three sets of hit_encoded accords \n",
    "accords_encoded = pd.concat([accord1_hot_encoded, accord2_hot_encoded,accord3_hot_encoded ], axis=1)"
   ]
  },
  {
   "cell_type": "code",
   "execution_count": 53,
   "metadata": {},
   "outputs": [
    {
     "name": "stdout",
     "output_type": "stream",
     "text": [
      "encoded accord columns:\n"
     ]
    },
    {
     "data": {
      "text/html": [
       "<div>\n",
       "<style scoped>\n",
       "    .dataframe tbody tr th:only-of-type {\n",
       "        vertical-align: middle;\n",
       "    }\n",
       "\n",
       "    .dataframe tbody tr th {\n",
       "        vertical-align: top;\n",
       "    }\n",
       "\n",
       "    .dataframe thead th {\n",
       "        text-align: right;\n",
       "    }\n",
       "</style>\n",
       "<table border=\"1\" class=\"dataframe\">\n",
       "  <thead>\n",
       "    <tr style=\"text-align: right;\">\n",
       "      <th></th>\n",
       "      <th>0</th>\n",
       "      <th>1</th>\n",
       "      <th>2</th>\n",
       "      <th>3</th>\n",
       "      <th>4</th>\n",
       "      <th>5</th>\n",
       "      <th>6</th>\n",
       "      <th>7</th>\n",
       "      <th>8</th>\n",
       "      <th>9</th>\n",
       "      <th>...</th>\n",
       "      <th>153</th>\n",
       "      <th>154</th>\n",
       "      <th>155</th>\n",
       "      <th>156</th>\n",
       "      <th>157</th>\n",
       "      <th>158</th>\n",
       "      <th>159</th>\n",
       "      <th>160</th>\n",
       "      <th>161</th>\n",
       "      <th>162</th>\n",
       "    </tr>\n",
       "  </thead>\n",
       "  <tbody>\n",
       "    <tr>\n",
       "      <th>0</th>\n",
       "      <td>0.0</td>\n",
       "      <td>0.0</td>\n",
       "      <td>0.0</td>\n",
       "      <td>0.0</td>\n",
       "      <td>0.0</td>\n",
       "      <td>0.0</td>\n",
       "      <td>0.0</td>\n",
       "      <td>0.0</td>\n",
       "      <td>0.0</td>\n",
       "      <td>0.0</td>\n",
       "      <td>...</td>\n",
       "      <td>0.0</td>\n",
       "      <td>0.0</td>\n",
       "      <td>0.0</td>\n",
       "      <td>0.0</td>\n",
       "      <td>0.0</td>\n",
       "      <td>0.0</td>\n",
       "      <td>0.0</td>\n",
       "      <td>0.0</td>\n",
       "      <td>1.0</td>\n",
       "      <td>0.0</td>\n",
       "    </tr>\n",
       "    <tr>\n",
       "      <th>1</th>\n",
       "      <td>0.0</td>\n",
       "      <td>0.0</td>\n",
       "      <td>0.0</td>\n",
       "      <td>0.0</td>\n",
       "      <td>0.0</td>\n",
       "      <td>0.0</td>\n",
       "      <td>0.0</td>\n",
       "      <td>0.0</td>\n",
       "      <td>0.0</td>\n",
       "      <td>0.0</td>\n",
       "      <td>...</td>\n",
       "      <td>0.0</td>\n",
       "      <td>0.0</td>\n",
       "      <td>0.0</td>\n",
       "      <td>0.0</td>\n",
       "      <td>0.0</td>\n",
       "      <td>0.0</td>\n",
       "      <td>0.0</td>\n",
       "      <td>0.0</td>\n",
       "      <td>0.0</td>\n",
       "      <td>0.0</td>\n",
       "    </tr>\n",
       "    <tr>\n",
       "      <th>2</th>\n",
       "      <td>0.0</td>\n",
       "      <td>0.0</td>\n",
       "      <td>0.0</td>\n",
       "      <td>0.0</td>\n",
       "      <td>0.0</td>\n",
       "      <td>0.0</td>\n",
       "      <td>0.0</td>\n",
       "      <td>0.0</td>\n",
       "      <td>0.0</td>\n",
       "      <td>0.0</td>\n",
       "      <td>...</td>\n",
       "      <td>0.0</td>\n",
       "      <td>0.0</td>\n",
       "      <td>0.0</td>\n",
       "      <td>0.0</td>\n",
       "      <td>0.0</td>\n",
       "      <td>0.0</td>\n",
       "      <td>0.0</td>\n",
       "      <td>1.0</td>\n",
       "      <td>0.0</td>\n",
       "      <td>0.0</td>\n",
       "    </tr>\n",
       "    <tr>\n",
       "      <th>3</th>\n",
       "      <td>0.0</td>\n",
       "      <td>0.0</td>\n",
       "      <td>0.0</td>\n",
       "      <td>0.0</td>\n",
       "      <td>0.0</td>\n",
       "      <td>0.0</td>\n",
       "      <td>0.0</td>\n",
       "      <td>0.0</td>\n",
       "      <td>0.0</td>\n",
       "      <td>0.0</td>\n",
       "      <td>...</td>\n",
       "      <td>0.0</td>\n",
       "      <td>0.0</td>\n",
       "      <td>1.0</td>\n",
       "      <td>0.0</td>\n",
       "      <td>0.0</td>\n",
       "      <td>0.0</td>\n",
       "      <td>0.0</td>\n",
       "      <td>0.0</td>\n",
       "      <td>0.0</td>\n",
       "      <td>0.0</td>\n",
       "    </tr>\n",
       "    <tr>\n",
       "      <th>4</th>\n",
       "      <td>0.0</td>\n",
       "      <td>0.0</td>\n",
       "      <td>0.0</td>\n",
       "      <td>0.0</td>\n",
       "      <td>0.0</td>\n",
       "      <td>0.0</td>\n",
       "      <td>0.0</td>\n",
       "      <td>0.0</td>\n",
       "      <td>0.0</td>\n",
       "      <td>0.0</td>\n",
       "      <td>...</td>\n",
       "      <td>0.0</td>\n",
       "      <td>0.0</td>\n",
       "      <td>0.0</td>\n",
       "      <td>0.0</td>\n",
       "      <td>0.0</td>\n",
       "      <td>0.0</td>\n",
       "      <td>0.0</td>\n",
       "      <td>0.0</td>\n",
       "      <td>0.0</td>\n",
       "      <td>0.0</td>\n",
       "    </tr>\n",
       "    <tr>\n",
       "      <th>...</th>\n",
       "      <td>...</td>\n",
       "      <td>...</td>\n",
       "      <td>...</td>\n",
       "      <td>...</td>\n",
       "      <td>...</td>\n",
       "      <td>...</td>\n",
       "      <td>...</td>\n",
       "      <td>...</td>\n",
       "      <td>...</td>\n",
       "      <td>...</td>\n",
       "      <td>...</td>\n",
       "      <td>...</td>\n",
       "      <td>...</td>\n",
       "      <td>...</td>\n",
       "      <td>...</td>\n",
       "      <td>...</td>\n",
       "      <td>...</td>\n",
       "      <td>...</td>\n",
       "      <td>...</td>\n",
       "      <td>...</td>\n",
       "      <td>...</td>\n",
       "    </tr>\n",
       "    <tr>\n",
       "      <th>4272</th>\n",
       "      <td>0.0</td>\n",
       "      <td>0.0</td>\n",
       "      <td>0.0</td>\n",
       "      <td>0.0</td>\n",
       "      <td>0.0</td>\n",
       "      <td>0.0</td>\n",
       "      <td>0.0</td>\n",
       "      <td>0.0</td>\n",
       "      <td>0.0</td>\n",
       "      <td>0.0</td>\n",
       "      <td>...</td>\n",
       "      <td>0.0</td>\n",
       "      <td>0.0</td>\n",
       "      <td>0.0</td>\n",
       "      <td>0.0</td>\n",
       "      <td>0.0</td>\n",
       "      <td>0.0</td>\n",
       "      <td>0.0</td>\n",
       "      <td>1.0</td>\n",
       "      <td>0.0</td>\n",
       "      <td>0.0</td>\n",
       "    </tr>\n",
       "    <tr>\n",
       "      <th>4273</th>\n",
       "      <td>0.0</td>\n",
       "      <td>0.0</td>\n",
       "      <td>0.0</td>\n",
       "      <td>0.0</td>\n",
       "      <td>0.0</td>\n",
       "      <td>0.0</td>\n",
       "      <td>0.0</td>\n",
       "      <td>0.0</td>\n",
       "      <td>0.0</td>\n",
       "      <td>0.0</td>\n",
       "      <td>...</td>\n",
       "      <td>0.0</td>\n",
       "      <td>0.0</td>\n",
       "      <td>0.0</td>\n",
       "      <td>0.0</td>\n",
       "      <td>0.0</td>\n",
       "      <td>0.0</td>\n",
       "      <td>0.0</td>\n",
       "      <td>0.0</td>\n",
       "      <td>0.0</td>\n",
       "      <td>0.0</td>\n",
       "    </tr>\n",
       "    <tr>\n",
       "      <th>4274</th>\n",
       "      <td>0.0</td>\n",
       "      <td>0.0</td>\n",
       "      <td>0.0</td>\n",
       "      <td>0.0</td>\n",
       "      <td>0.0</td>\n",
       "      <td>0.0</td>\n",
       "      <td>0.0</td>\n",
       "      <td>0.0</td>\n",
       "      <td>0.0</td>\n",
       "      <td>0.0</td>\n",
       "      <td>...</td>\n",
       "      <td>0.0</td>\n",
       "      <td>0.0</td>\n",
       "      <td>0.0</td>\n",
       "      <td>0.0</td>\n",
       "      <td>0.0</td>\n",
       "      <td>0.0</td>\n",
       "      <td>0.0</td>\n",
       "      <td>0.0</td>\n",
       "      <td>0.0</td>\n",
       "      <td>0.0</td>\n",
       "    </tr>\n",
       "    <tr>\n",
       "      <th>4275</th>\n",
       "      <td>0.0</td>\n",
       "      <td>0.0</td>\n",
       "      <td>0.0</td>\n",
       "      <td>0.0</td>\n",
       "      <td>0.0</td>\n",
       "      <td>0.0</td>\n",
       "      <td>0.0</td>\n",
       "      <td>0.0</td>\n",
       "      <td>0.0</td>\n",
       "      <td>0.0</td>\n",
       "      <td>...</td>\n",
       "      <td>0.0</td>\n",
       "      <td>0.0</td>\n",
       "      <td>0.0</td>\n",
       "      <td>0.0</td>\n",
       "      <td>0.0</td>\n",
       "      <td>0.0</td>\n",
       "      <td>0.0</td>\n",
       "      <td>0.0</td>\n",
       "      <td>0.0</td>\n",
       "      <td>0.0</td>\n",
       "    </tr>\n",
       "    <tr>\n",
       "      <th>4276</th>\n",
       "      <td>0.0</td>\n",
       "      <td>0.0</td>\n",
       "      <td>0.0</td>\n",
       "      <td>0.0</td>\n",
       "      <td>0.0</td>\n",
       "      <td>0.0</td>\n",
       "      <td>0.0</td>\n",
       "      <td>0.0</td>\n",
       "      <td>0.0</td>\n",
       "      <td>0.0</td>\n",
       "      <td>...</td>\n",
       "      <td>0.0</td>\n",
       "      <td>0.0</td>\n",
       "      <td>0.0</td>\n",
       "      <td>0.0</td>\n",
       "      <td>0.0</td>\n",
       "      <td>1.0</td>\n",
       "      <td>0.0</td>\n",
       "      <td>0.0</td>\n",
       "      <td>0.0</td>\n",
       "      <td>0.0</td>\n",
       "    </tr>\n",
       "  </tbody>\n",
       "</table>\n",
       "<p>4277 rows × 163 columns</p>\n",
       "</div>"
      ],
      "text/plain": [
       "      0    1    2    3    4    5    6    7    8    9    ...  153  154  155  \\\n",
       "0     0.0  0.0  0.0  0.0  0.0  0.0  0.0  0.0  0.0  0.0  ...  0.0  0.0  0.0   \n",
       "1     0.0  0.0  0.0  0.0  0.0  0.0  0.0  0.0  0.0  0.0  ...  0.0  0.0  0.0   \n",
       "2     0.0  0.0  0.0  0.0  0.0  0.0  0.0  0.0  0.0  0.0  ...  0.0  0.0  0.0   \n",
       "3     0.0  0.0  0.0  0.0  0.0  0.0  0.0  0.0  0.0  0.0  ...  0.0  0.0  1.0   \n",
       "4     0.0  0.0  0.0  0.0  0.0  0.0  0.0  0.0  0.0  0.0  ...  0.0  0.0  0.0   \n",
       "...   ...  ...  ...  ...  ...  ...  ...  ...  ...  ...  ...  ...  ...  ...   \n",
       "4272  0.0  0.0  0.0  0.0  0.0  0.0  0.0  0.0  0.0  0.0  ...  0.0  0.0  0.0   \n",
       "4273  0.0  0.0  0.0  0.0  0.0  0.0  0.0  0.0  0.0  0.0  ...  0.0  0.0  0.0   \n",
       "4274  0.0  0.0  0.0  0.0  0.0  0.0  0.0  0.0  0.0  0.0  ...  0.0  0.0  0.0   \n",
       "4275  0.0  0.0  0.0  0.0  0.0  0.0  0.0  0.0  0.0  0.0  ...  0.0  0.0  0.0   \n",
       "4276  0.0  0.0  0.0  0.0  0.0  0.0  0.0  0.0  0.0  0.0  ...  0.0  0.0  0.0   \n",
       "\n",
       "      156  157  158  159  160  161  162  \n",
       "0     0.0  0.0  0.0  0.0  0.0  1.0  0.0  \n",
       "1     0.0  0.0  0.0  0.0  0.0  0.0  0.0  \n",
       "2     0.0  0.0  0.0  0.0  1.0  0.0  0.0  \n",
       "3     0.0  0.0  0.0  0.0  0.0  0.0  0.0  \n",
       "4     0.0  0.0  0.0  0.0  0.0  0.0  0.0  \n",
       "...   ...  ...  ...  ...  ...  ...  ...  \n",
       "4272  0.0  0.0  0.0  0.0  1.0  0.0  0.0  \n",
       "4273  0.0  0.0  0.0  0.0  0.0  0.0  0.0  \n",
       "4274  0.0  0.0  0.0  0.0  0.0  0.0  0.0  \n",
       "4275  0.0  0.0  0.0  0.0  0.0  0.0  0.0  \n",
       "4276  0.0  0.0  1.0  0.0  0.0  0.0  0.0  \n",
       "\n",
       "[4277 rows x 163 columns]"
      ]
     },
     "execution_count": 53,
     "metadata": {},
     "output_type": "execute_result"
    }
   ],
   "source": [
    "#shoowing the encoded results of accord columns\n",
    "print('encoded accord columns:')\n",
    "accords_encoded"
   ]
  },
  {
   "cell_type": "code",
   "execution_count": 54,
   "metadata": {},
   "outputs": [],
   "source": [
    "#dropping the columns which will be included by oneHotEncoding\n",
    "todrop = ['accord1', 'accord2', 'accord3']\n",
    "frag_cl = frag_cl.drop(columns = todrop)"
   ]
  },
  {
   "cell_type": "code",
   "execution_count": 55,
   "metadata": {},
   "outputs": [],
   "source": [
    "#adding the encoded accords back\n",
    "frag_cl_encoded = pd.concat([frag_cl, accords_encoded], axis=1)"
   ]
  },
  {
   "cell_type": "code",
   "execution_count": 56,
   "metadata": {},
   "outputs": [
    {
     "name": "stdout",
     "output_type": "stream",
     "text": [
      "the new data frame:\n"
     ]
    },
    {
     "data": {
      "text/html": [
       "<div>\n",
       "<style scoped>\n",
       "    .dataframe tbody tr th:only-of-type {\n",
       "        vertical-align: middle;\n",
       "    }\n",
       "\n",
       "    .dataframe tbody tr th {\n",
       "        vertical-align: top;\n",
       "    }\n",
       "\n",
       "    .dataframe thead th {\n",
       "        text-align: right;\n",
       "    }\n",
       "</style>\n",
       "<table border=\"1\" class=\"dataframe\">\n",
       "  <thead>\n",
       "    <tr style=\"text-align: right;\">\n",
       "      <th></th>\n",
       "      <th>brand</th>\n",
       "      <th>title</th>\n",
       "      <th>rating_score</th>\n",
       "      <th>longevity_poor</th>\n",
       "      <th>longevity_weak</th>\n",
       "      <th>longevity_moderate</th>\n",
       "      <th>longevity_long</th>\n",
       "      <th>longevity_very_long</th>\n",
       "      <th>sillage_soft</th>\n",
       "      <th>sillage_moderate</th>\n",
       "      <th>...</th>\n",
       "      <th>153</th>\n",
       "      <th>154</th>\n",
       "      <th>155</th>\n",
       "      <th>156</th>\n",
       "      <th>157</th>\n",
       "      <th>158</th>\n",
       "      <th>159</th>\n",
       "      <th>160</th>\n",
       "      <th>161</th>\n",
       "      <th>162</th>\n",
       "    </tr>\n",
       "  </thead>\n",
       "  <tbody>\n",
       "    <tr>\n",
       "      <th>0</th>\n",
       "      <td>Christian-Dior</td>\n",
       "      <td>Miss Dior Cherie Eau de Parfum Christian Dior ...</td>\n",
       "      <td>4.00</td>\n",
       "      <td>0.059299</td>\n",
       "      <td>0.067385</td>\n",
       "      <td>0.304582</td>\n",
       "      <td>0.380054</td>\n",
       "      <td>0.188679</td>\n",
       "      <td>0.112903</td>\n",
       "      <td>0.486175</td>\n",
       "      <td>...</td>\n",
       "      <td>0.0</td>\n",
       "      <td>0.0</td>\n",
       "      <td>0.0</td>\n",
       "      <td>0.0</td>\n",
       "      <td>0.0</td>\n",
       "      <td>0.0</td>\n",
       "      <td>0.0</td>\n",
       "      <td>0.0</td>\n",
       "      <td>1.0</td>\n",
       "      <td>0.0</td>\n",
       "    </tr>\n",
       "    <tr>\n",
       "      <th>1</th>\n",
       "      <td>Hanae-Mori</td>\n",
       "      <td>Hanae Mori Hanae Mori for women</td>\n",
       "      <td>4.02</td>\n",
       "      <td>0.049096</td>\n",
       "      <td>0.067183</td>\n",
       "      <td>0.338501</td>\n",
       "      <td>0.416021</td>\n",
       "      <td>0.129199</td>\n",
       "      <td>0.141079</td>\n",
       "      <td>0.443983</td>\n",
       "      <td>...</td>\n",
       "      <td>0.0</td>\n",
       "      <td>0.0</td>\n",
       "      <td>0.0</td>\n",
       "      <td>0.0</td>\n",
       "      <td>0.0</td>\n",
       "      <td>0.0</td>\n",
       "      <td>0.0</td>\n",
       "      <td>0.0</td>\n",
       "      <td>0.0</td>\n",
       "      <td>0.0</td>\n",
       "    </tr>\n",
       "    <tr>\n",
       "      <th>2</th>\n",
       "      <td>Yves-Saint-Laurent</td>\n",
       "      <td>Mon Paris Yves Saint Laurent for women</td>\n",
       "      <td>3.51</td>\n",
       "      <td>0.083333</td>\n",
       "      <td>0.111111</td>\n",
       "      <td>0.462963</td>\n",
       "      <td>0.210648</td>\n",
       "      <td>0.131944</td>\n",
       "      <td>0.159615</td>\n",
       "      <td>0.494231</td>\n",
       "      <td>...</td>\n",
       "      <td>0.0</td>\n",
       "      <td>0.0</td>\n",
       "      <td>0.0</td>\n",
       "      <td>0.0</td>\n",
       "      <td>0.0</td>\n",
       "      <td>0.0</td>\n",
       "      <td>0.0</td>\n",
       "      <td>1.0</td>\n",
       "      <td>0.0</td>\n",
       "      <td>0.0</td>\n",
       "    </tr>\n",
       "    <tr>\n",
       "      <th>3</th>\n",
       "      <td>Montale</td>\n",
       "      <td>Mukhallat Montale for women and men</td>\n",
       "      <td>3.77</td>\n",
       "      <td>0.094340</td>\n",
       "      <td>0.056604</td>\n",
       "      <td>0.160377</td>\n",
       "      <td>0.264151</td>\n",
       "      <td>0.424528</td>\n",
       "      <td>0.105960</td>\n",
       "      <td>0.238411</td>\n",
       "      <td>...</td>\n",
       "      <td>0.0</td>\n",
       "      <td>0.0</td>\n",
       "      <td>1.0</td>\n",
       "      <td>0.0</td>\n",
       "      <td>0.0</td>\n",
       "      <td>0.0</td>\n",
       "      <td>0.0</td>\n",
       "      <td>0.0</td>\n",
       "      <td>0.0</td>\n",
       "      <td>0.0</td>\n",
       "    </tr>\n",
       "    <tr>\n",
       "      <th>4</th>\n",
       "      <td>Montale</td>\n",
       "      <td>Roses Elixir Montale for women</td>\n",
       "      <td>3.94</td>\n",
       "      <td>0.098901</td>\n",
       "      <td>0.076923</td>\n",
       "      <td>0.131868</td>\n",
       "      <td>0.329670</td>\n",
       "      <td>0.362637</td>\n",
       "      <td>0.112903</td>\n",
       "      <td>0.290323</td>\n",
       "      <td>...</td>\n",
       "      <td>0.0</td>\n",
       "      <td>0.0</td>\n",
       "      <td>0.0</td>\n",
       "      <td>0.0</td>\n",
       "      <td>0.0</td>\n",
       "      <td>0.0</td>\n",
       "      <td>0.0</td>\n",
       "      <td>0.0</td>\n",
       "      <td>0.0</td>\n",
       "      <td>0.0</td>\n",
       "    </tr>\n",
       "    <tr>\n",
       "      <th>...</th>\n",
       "      <td>...</td>\n",
       "      <td>...</td>\n",
       "      <td>...</td>\n",
       "      <td>...</td>\n",
       "      <td>...</td>\n",
       "      <td>...</td>\n",
       "      <td>...</td>\n",
       "      <td>...</td>\n",
       "      <td>...</td>\n",
       "      <td>...</td>\n",
       "      <td>...</td>\n",
       "      <td>...</td>\n",
       "      <td>...</td>\n",
       "      <td>...</td>\n",
       "      <td>...</td>\n",
       "      <td>...</td>\n",
       "      <td>...</td>\n",
       "      <td>...</td>\n",
       "      <td>...</td>\n",
       "      <td>...</td>\n",
       "      <td>...</td>\n",
       "    </tr>\n",
       "    <tr>\n",
       "      <th>4272</th>\n",
       "      <td>Honore-des-Pres</td>\n",
       "      <td>Vamp à NY Honore des Pres for women</td>\n",
       "      <td>3.80</td>\n",
       "      <td>0.050847</td>\n",
       "      <td>0.084746</td>\n",
       "      <td>0.457627</td>\n",
       "      <td>0.322034</td>\n",
       "      <td>0.084746</td>\n",
       "      <td>0.108108</td>\n",
       "      <td>0.567568</td>\n",
       "      <td>...</td>\n",
       "      <td>0.0</td>\n",
       "      <td>0.0</td>\n",
       "      <td>0.0</td>\n",
       "      <td>0.0</td>\n",
       "      <td>0.0</td>\n",
       "      <td>0.0</td>\n",
       "      <td>0.0</td>\n",
       "      <td>1.0</td>\n",
       "      <td>0.0</td>\n",
       "      <td>0.0</td>\n",
       "    </tr>\n",
       "    <tr>\n",
       "      <th>4273</th>\n",
       "      <td>Cartier</td>\n",
       "      <td>So Pretty Cartier for women</td>\n",
       "      <td>4.05</td>\n",
       "      <td>0.086957</td>\n",
       "      <td>0.108696</td>\n",
       "      <td>0.195652</td>\n",
       "      <td>0.434783</td>\n",
       "      <td>0.173913</td>\n",
       "      <td>0.181818</td>\n",
       "      <td>0.509091</td>\n",
       "      <td>...</td>\n",
       "      <td>0.0</td>\n",
       "      <td>0.0</td>\n",
       "      <td>0.0</td>\n",
       "      <td>0.0</td>\n",
       "      <td>0.0</td>\n",
       "      <td>0.0</td>\n",
       "      <td>0.0</td>\n",
       "      <td>0.0</td>\n",
       "      <td>0.0</td>\n",
       "      <td>0.0</td>\n",
       "    </tr>\n",
       "    <tr>\n",
       "      <th>4274</th>\n",
       "      <td>Paco-Rabanne</td>\n",
       "      <td>Ultraviolet Paco Rabanne for men</td>\n",
       "      <td>3.90</td>\n",
       "      <td>0.071429</td>\n",
       "      <td>0.079365</td>\n",
       "      <td>0.250000</td>\n",
       "      <td>0.496032</td>\n",
       "      <td>0.103175</td>\n",
       "      <td>0.115646</td>\n",
       "      <td>0.367347</td>\n",
       "      <td>...</td>\n",
       "      <td>0.0</td>\n",
       "      <td>0.0</td>\n",
       "      <td>0.0</td>\n",
       "      <td>0.0</td>\n",
       "      <td>0.0</td>\n",
       "      <td>0.0</td>\n",
       "      <td>0.0</td>\n",
       "      <td>0.0</td>\n",
       "      <td>0.0</td>\n",
       "      <td>0.0</td>\n",
       "    </tr>\n",
       "    <tr>\n",
       "      <th>4275</th>\n",
       "      <td>Yves-Rocher</td>\n",
       "      <td>Venice Yves Rocher for women</td>\n",
       "      <td>4.07</td>\n",
       "      <td>0.111111</td>\n",
       "      <td>0.083333</td>\n",
       "      <td>0.416667</td>\n",
       "      <td>0.250000</td>\n",
       "      <td>0.138889</td>\n",
       "      <td>0.106383</td>\n",
       "      <td>0.489362</td>\n",
       "      <td>...</td>\n",
       "      <td>0.0</td>\n",
       "      <td>0.0</td>\n",
       "      <td>0.0</td>\n",
       "      <td>0.0</td>\n",
       "      <td>0.0</td>\n",
       "      <td>0.0</td>\n",
       "      <td>0.0</td>\n",
       "      <td>0.0</td>\n",
       "      <td>0.0</td>\n",
       "      <td>0.0</td>\n",
       "    </tr>\n",
       "    <tr>\n",
       "      <th>4276</th>\n",
       "      <td>Chopard</td>\n",
       "      <td>Oud Malaki Chopard for men</td>\n",
       "      <td>4.42</td>\n",
       "      <td>0.057851</td>\n",
       "      <td>0.074380</td>\n",
       "      <td>0.165289</td>\n",
       "      <td>0.314050</td>\n",
       "      <td>0.388430</td>\n",
       "      <td>0.123529</td>\n",
       "      <td>0.258824</td>\n",
       "      <td>...</td>\n",
       "      <td>0.0</td>\n",
       "      <td>0.0</td>\n",
       "      <td>0.0</td>\n",
       "      <td>0.0</td>\n",
       "      <td>0.0</td>\n",
       "      <td>1.0</td>\n",
       "      <td>0.0</td>\n",
       "      <td>0.0</td>\n",
       "      <td>0.0</td>\n",
       "      <td>0.0</td>\n",
       "    </tr>\n",
       "  </tbody>\n",
       "</table>\n",
       "<p>4277 rows × 181 columns</p>\n",
       "</div>"
      ],
      "text/plain": [
       "                   brand                                              title  \\\n",
       "0         Christian-Dior  Miss Dior Cherie Eau de Parfum Christian Dior ...   \n",
       "1             Hanae-Mori                    Hanae Mori Hanae Mori for women   \n",
       "2     Yves-Saint-Laurent             Mon Paris Yves Saint Laurent for women   \n",
       "3                Montale                Mukhallat Montale for women and men   \n",
       "4                Montale                     Roses Elixir Montale for women   \n",
       "...                  ...                                                ...   \n",
       "4272     Honore-des-Pres                Vamp à NY Honore des Pres for women   \n",
       "4273             Cartier                        So Pretty Cartier for women   \n",
       "4274        Paco-Rabanne                   Ultraviolet Paco Rabanne for men   \n",
       "4275         Yves-Rocher                       Venice Yves Rocher for women   \n",
       "4276             Chopard                         Oud Malaki Chopard for men   \n",
       "\n",
       "      rating_score  longevity_poor  longevity_weak  longevity_moderate  \\\n",
       "0             4.00        0.059299        0.067385            0.304582   \n",
       "1             4.02        0.049096        0.067183            0.338501   \n",
       "2             3.51        0.083333        0.111111            0.462963   \n",
       "3             3.77        0.094340        0.056604            0.160377   \n",
       "4             3.94        0.098901        0.076923            0.131868   \n",
       "...            ...             ...             ...                 ...   \n",
       "4272          3.80        0.050847        0.084746            0.457627   \n",
       "4273          4.05        0.086957        0.108696            0.195652   \n",
       "4274          3.90        0.071429        0.079365            0.250000   \n",
       "4275          4.07        0.111111        0.083333            0.416667   \n",
       "4276          4.42        0.057851        0.074380            0.165289   \n",
       "\n",
       "      longevity_long  longevity_very_long  sillage_soft  sillage_moderate  \\\n",
       "0           0.380054             0.188679      0.112903          0.486175   \n",
       "1           0.416021             0.129199      0.141079          0.443983   \n",
       "2           0.210648             0.131944      0.159615          0.494231   \n",
       "3           0.264151             0.424528      0.105960          0.238411   \n",
       "4           0.329670             0.362637      0.112903          0.290323   \n",
       "...              ...                  ...           ...               ...   \n",
       "4272        0.322034             0.084746      0.108108          0.567568   \n",
       "4273        0.434783             0.173913      0.181818          0.509091   \n",
       "4274        0.496032             0.103175      0.115646          0.367347   \n",
       "4275        0.250000             0.138889      0.106383          0.489362   \n",
       "4276        0.314050             0.388430      0.123529          0.258824   \n",
       "\n",
       "      ...  153  154  155  156  157  158  159  160  161  162  \n",
       "0     ...  0.0  0.0  0.0  0.0  0.0  0.0  0.0  0.0  1.0  0.0  \n",
       "1     ...  0.0  0.0  0.0  0.0  0.0  0.0  0.0  0.0  0.0  0.0  \n",
       "2     ...  0.0  0.0  0.0  0.0  0.0  0.0  0.0  1.0  0.0  0.0  \n",
       "3     ...  0.0  0.0  1.0  0.0  0.0  0.0  0.0  0.0  0.0  0.0  \n",
       "4     ...  0.0  0.0  0.0  0.0  0.0  0.0  0.0  0.0  0.0  0.0  \n",
       "...   ...  ...  ...  ...  ...  ...  ...  ...  ...  ...  ...  \n",
       "4272  ...  0.0  0.0  0.0  0.0  0.0  0.0  0.0  1.0  0.0  0.0  \n",
       "4273  ...  0.0  0.0  0.0  0.0  0.0  0.0  0.0  0.0  0.0  0.0  \n",
       "4274  ...  0.0  0.0  0.0  0.0  0.0  0.0  0.0  0.0  0.0  0.0  \n",
       "4275  ...  0.0  0.0  0.0  0.0  0.0  0.0  0.0  0.0  0.0  0.0  \n",
       "4276  ...  0.0  0.0  0.0  0.0  0.0  1.0  0.0  0.0  0.0  0.0  \n",
       "\n",
       "[4277 rows x 181 columns]"
      ]
     },
     "execution_count": 56,
     "metadata": {},
     "output_type": "execute_result"
    }
   ],
   "source": [
    "#showing how new dataframe looks like\n",
    "print('the new data frame:')\n",
    "frag_cl_encoded"
   ]
  },
  {
   "cell_type": "code",
   "execution_count": 57,
   "metadata": {},
   "outputs": [],
   "source": [
    "#saving the ready updated data frame as csv.file ready to use for content based recommendation modelling\n",
    "frag_cl_encoded.to_csv('perfume_cl.csv', sep=',', index=False, header=True)"
   ]
  }
 ],
 "metadata": {
  "kernelspec": {
   "display_name": "Python 3",
   "language": "python",
   "name": "python3"
  },
  "language_info": {
   "codemirror_mode": {
    "name": "ipython",
    "version": 3
   },
   "file_extension": ".py",
   "mimetype": "text/x-python",
   "name": "python",
   "nbconvert_exporter": "python",
   "pygments_lexer": "ipython3",
   "version": "3.8.5"
  }
 },
 "nbformat": 4,
 "nbformat_minor": 4
}
