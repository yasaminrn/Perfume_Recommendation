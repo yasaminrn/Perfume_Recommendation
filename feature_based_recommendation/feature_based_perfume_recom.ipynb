{
 "cells": [
  {
   "cell_type": "markdown",
   "metadata": {},
   "source": [
    "Creating feature based perfume recommendation system"
   ]
  },
  {
   "cell_type": "code",
   "execution_count": 1,
   "metadata": {},
   "outputs": [],
   "source": [
    "#importing the libraries\n",
    "import pandas as pd\n",
    "import numpy as np"
   ]
  },
  {
   "cell_type": "code",
   "execution_count": 2,
   "metadata": {},
   "outputs": [],
   "source": [
    "#importing libraries for recommendation modelling, to be moved to modelling\n",
    "from sklearn.metrics.pairwise import cosine_similarity\n",
    "\n",
    "from sklearn.metrics import mean_squared_error\n",
    "from sklearn.model_selection import train_test_split\n",
    "from sklearn.metrics.pairwise import linear_kernel"
   ]
  },
  {
   "cell_type": "code",
   "execution_count": 3,
   "metadata": {},
   "outputs": [],
   "source": [
    "#getting the data\n",
    "perfume= pd.read_csv('perfume_cl.csv')"
   ]
  },
  {
   "cell_type": "code",
   "execution_count": 4,
   "metadata": {},
   "outputs": [],
   "source": [
    "#removing rows with NA values\n",
    "perfume.dropna(inplace = True)\n",
    "perfume.reset_index(inplace = True)"
   ]
  },
  {
   "cell_type": "code",
   "execution_count": 5,
   "metadata": {},
   "outputs": [],
   "source": [
    "#feathures used for recommendation\n",
    "perfume_features = perfume.copy().drop(columns = ['index','brand', 'title', 'rating_score'])"
   ]
  },
  {
   "cell_type": "code",
   "execution_count": 6,
   "metadata": {},
   "outputs": [],
   "source": [
    "#titles of perfumes\n",
    "perfume_title = perfume['title']"
   ]
  },
  {
   "cell_type": "code",
   "execution_count": 7,
   "metadata": {},
   "outputs": [],
   "source": [
    "#user input for which we are providing in recommendation\n",
    "perfume_example = 'Mon Paris Yves Saint Laurent for women'"
   ]
  },
  {
   "cell_type": "code",
   "execution_count": 8,
   "metadata": {},
   "outputs": [],
   "source": [
    "#index of the perfume for which we are providing in recommendation \n",
    "ex_index = (perfume_title[perfume_title == perfume_example]).index.values"
   ]
  },
  {
   "cell_type": "code",
   "execution_count": 9,
   "metadata": {},
   "outputs": [],
   "source": [
    "#taking numerical value from index object\n",
    "index_val = ex_index[0]"
   ]
  },
  {
   "cell_type": "markdown",
   "metadata": {},
   "source": [
    "Both cosine similaity and corrolation function give similarity matrix which are very close to each other, and the recommended perfume based on the two approach are mostly identical. Both formulations are kept here for futute use."
   ]
  },
  {
   "cell_type": "code",
   "execution_count": 10,
   "metadata": {},
   "outputs": [],
   "source": [
    "#cosine similarity matrix\n",
    "cosine_sim = cosine_similarity(perfume_features)"
   ]
  },
  {
   "cell_type": "code",
   "execution_count": 11,
   "metadata": {},
   "outputs": [
    {
     "data": {
      "text/plain": [
       "array([[0.54422138, 0.54025221, 1.        , ..., 0.26604358, 0.28166789,\n",
       "        0.22783051]])"
      ]
     },
     "execution_count": 11,
     "metadata": {},
     "output_type": "execute_result"
    }
   ],
   "source": [
    "#row of similarity matrix for the target perfume\n",
    "cosine_sim[ex_index]"
   ]
  },
  {
   "cell_type": "code",
   "execution_count": 12,
   "metadata": {},
   "outputs": [],
   "source": [
    "#recreating the dataframe with titles included\n",
    "cosine_concat = pd.DataFrame(cosine_sim[ex_index], columns = perfume_title, index = ex_index).T"
   ]
  },
  {
   "cell_type": "code",
   "execution_count": 13,
   "metadata": {},
   "outputs": [
    {
     "data": {
      "text/html": [
       "<div>\n",
       "<style scoped>\n",
       "    .dataframe tbody tr th:only-of-type {\n",
       "        vertical-align: middle;\n",
       "    }\n",
       "\n",
       "    .dataframe tbody tr th {\n",
       "        vertical-align: top;\n",
       "    }\n",
       "\n",
       "    .dataframe thead th {\n",
       "        text-align: right;\n",
       "    }\n",
       "</style>\n",
       "<table border=\"1\" class=\"dataframe\">\n",
       "  <thead>\n",
       "    <tr style=\"text-align: right;\">\n",
       "      <th></th>\n",
       "      <th>title</th>\n",
       "      <th>2</th>\n",
       "    </tr>\n",
       "  </thead>\n",
       "  <tbody>\n",
       "    <tr>\n",
       "      <th>0</th>\n",
       "      <td>Miss Dior Cherie Eau de Parfum Christian Dior ...</td>\n",
       "      <td>0.544221</td>\n",
       "    </tr>\n",
       "    <tr>\n",
       "      <th>1</th>\n",
       "      <td>Hanae Mori Hanae Mori for women</td>\n",
       "      <td>0.540252</td>\n",
       "    </tr>\n",
       "    <tr>\n",
       "      <th>2</th>\n",
       "      <td>Mon Paris Yves Saint Laurent for women</td>\n",
       "      <td>1.000000</td>\n",
       "    </tr>\n",
       "    <tr>\n",
       "      <th>3</th>\n",
       "      <td>Mukhallat Montale for women and men</td>\n",
       "      <td>0.707721</td>\n",
       "    </tr>\n",
       "    <tr>\n",
       "      <th>4</th>\n",
       "      <td>Roses Elixir Montale for women</td>\n",
       "      <td>0.521192</td>\n",
       "    </tr>\n",
       "    <tr>\n",
       "      <th>...</th>\n",
       "      <td>...</td>\n",
       "      <td>...</td>\n",
       "    </tr>\n",
       "    <tr>\n",
       "      <th>4267</th>\n",
       "      <td>Vamp à NY Honore des Pres for women</td>\n",
       "      <td>0.534640</td>\n",
       "    </tr>\n",
       "    <tr>\n",
       "      <th>4268</th>\n",
       "      <td>So Pretty Cartier for women</td>\n",
       "      <td>0.303978</td>\n",
       "    </tr>\n",
       "    <tr>\n",
       "      <th>4269</th>\n",
       "      <td>Ultraviolet Paco Rabanne for men</td>\n",
       "      <td>0.266044</td>\n",
       "    </tr>\n",
       "    <tr>\n",
       "      <th>4270</th>\n",
       "      <td>Venice Yves Rocher for women</td>\n",
       "      <td>0.281668</td>\n",
       "    </tr>\n",
       "    <tr>\n",
       "      <th>4271</th>\n",
       "      <td>Oud Malaki Chopard for men</td>\n",
       "      <td>0.227831</td>\n",
       "    </tr>\n",
       "  </tbody>\n",
       "</table>\n",
       "<p>4272 rows × 2 columns</p>\n",
       "</div>"
      ],
      "text/plain": [
       "                                                  title         2\n",
       "0     Miss Dior Cherie Eau de Parfum Christian Dior ...  0.544221\n",
       "1                       Hanae Mori Hanae Mori for women  0.540252\n",
       "2                Mon Paris Yves Saint Laurent for women  1.000000\n",
       "3                   Mukhallat Montale for women and men  0.707721\n",
       "4                        Roses Elixir Montale for women  0.521192\n",
       "...                                                 ...       ...\n",
       "4267                Vamp à NY Honore des Pres for women  0.534640\n",
       "4268                        So Pretty Cartier for women  0.303978\n",
       "4269                   Ultraviolet Paco Rabanne for men  0.266044\n",
       "4270                       Venice Yves Rocher for women  0.281668\n",
       "4271                         Oud Malaki Chopard for men  0.227831\n",
       "\n",
       "[4272 rows x 2 columns]"
      ]
     },
     "execution_count": 13,
     "metadata": {},
     "output_type": "execute_result"
    }
   ],
   "source": [
    "#adding index to data frame\n",
    "cosine_concat.reset_index()"
   ]
  },
  {
   "cell_type": "code",
   "execution_count": 14,
   "metadata": {},
   "outputs": [],
   "source": [
    "#testing that maximum index is the same as original index (item is the most similar to itself)\n",
    "maxindex = cosine_concat.max(axis=0).index"
   ]
  },
  {
   "cell_type": "code",
   "execution_count": 15,
   "metadata": {},
   "outputs": [],
   "source": [
    "#sorting the similarity data frame from most to least similar\n",
    "cosine_concat.sort_values(by = [index_val], inplace = True, ascending=False)\n",
    "cosine_concat.reset_index(inplace = True)"
   ]
  },
  {
   "cell_type": "code",
   "execution_count": 16,
   "metadata": {},
   "outputs": [
    {
     "data": {
      "text/plain": [
       "1                        Deci Dela Nina Ricci for women\n",
       "2                            Twirl Kate Spade for women\n",
       "3                        Heiress Paris Hilton for women\n",
       "4                     Hedonist Viktoria Minya for women\n",
       "5                      Play It Lovely Playboy for women\n",
       "6            Fath de Fath (1993) Jacques Fath for women\n",
       "7                  Gorgeous Victoria's Secret for women\n",
       "8              Glow after Dark Jennifer Lopez for women\n",
       "9     La Petite Robe Noire Eau de Toilette Guerlain ...\n",
       "10                    Dalissime Salvador Dali for women\n",
       "Name: title, dtype: object"
      ]
     },
     "execution_count": 16,
     "metadata": {},
     "output_type": "execute_result"
    }
   ],
   "source": [
    "#starting from second value (first value is the target perfume itself) listing 10 most similar perfumes\n",
    "cosine_concat[1:11]['title']"
   ]
  },
  {
   "cell_type": "code",
   "execution_count": 17,
   "metadata": {},
   "outputs": [],
   "source": [
    "#corrolation matrix\n",
    "corrolation_sim = np.corrcoef(perfume_features)"
   ]
  },
  {
   "cell_type": "code",
   "execution_count": 18,
   "metadata": {},
   "outputs": [
    {
     "data": {
      "text/plain": [
       "array([[0.51443562, 0.51022136, 1.        , ..., 0.21610528, 0.23541527,\n",
       "        0.17582032]])"
      ]
     },
     "execution_count": 18,
     "metadata": {},
     "output_type": "execute_result"
    }
   ],
   "source": [
    "#row of similarity matrix for the target perfume\n",
    "corrolation_sim[ex_index]"
   ]
  },
  {
   "cell_type": "code",
   "execution_count": 19,
   "metadata": {},
   "outputs": [],
   "source": [
    "#recreating the dataframe with titles included\n",
    "corrolation_concat = pd.DataFrame(corrolation_sim[ex_index], columns = perfume_title, index = ex_index).T"
   ]
  },
  {
   "cell_type": "code",
   "execution_count": 20,
   "metadata": {},
   "outputs": [
    {
     "data": {
      "text/html": [
       "<div>\n",
       "<style scoped>\n",
       "    .dataframe tbody tr th:only-of-type {\n",
       "        vertical-align: middle;\n",
       "    }\n",
       "\n",
       "    .dataframe tbody tr th {\n",
       "        vertical-align: top;\n",
       "    }\n",
       "\n",
       "    .dataframe thead th {\n",
       "        text-align: right;\n",
       "    }\n",
       "</style>\n",
       "<table border=\"1\" class=\"dataframe\">\n",
       "  <thead>\n",
       "    <tr style=\"text-align: right;\">\n",
       "      <th></th>\n",
       "      <th>title</th>\n",
       "      <th>2</th>\n",
       "    </tr>\n",
       "  </thead>\n",
       "  <tbody>\n",
       "    <tr>\n",
       "      <th>0</th>\n",
       "      <td>Miss Dior Cherie Eau de Parfum Christian Dior ...</td>\n",
       "      <td>0.514436</td>\n",
       "    </tr>\n",
       "    <tr>\n",
       "      <th>1</th>\n",
       "      <td>Hanae Mori Hanae Mori for women</td>\n",
       "      <td>0.510221</td>\n",
       "    </tr>\n",
       "    <tr>\n",
       "      <th>2</th>\n",
       "      <td>Mon Paris Yves Saint Laurent for women</td>\n",
       "      <td>1.000000</td>\n",
       "    </tr>\n",
       "    <tr>\n",
       "      <th>3</th>\n",
       "      <td>Mukhallat Montale for women and men</td>\n",
       "      <td>0.687688</td>\n",
       "    </tr>\n",
       "    <tr>\n",
       "      <th>4</th>\n",
       "      <td>Roses Elixir Montale for women</td>\n",
       "      <td>0.489899</td>\n",
       "    </tr>\n",
       "    <tr>\n",
       "      <th>...</th>\n",
       "      <td>...</td>\n",
       "      <td>...</td>\n",
       "    </tr>\n",
       "    <tr>\n",
       "      <th>4267</th>\n",
       "      <td>Vamp à NY Honore des Pres for women</td>\n",
       "      <td>0.504287</td>\n",
       "    </tr>\n",
       "    <tr>\n",
       "      <th>4268</th>\n",
       "      <td>So Pretty Cartier for women</td>\n",
       "      <td>0.258121</td>\n",
       "    </tr>\n",
       "    <tr>\n",
       "      <th>4269</th>\n",
       "      <td>Ultraviolet Paco Rabanne for men</td>\n",
       "      <td>0.216105</td>\n",
       "    </tr>\n",
       "    <tr>\n",
       "      <th>4270</th>\n",
       "      <td>Venice Yves Rocher for women</td>\n",
       "      <td>0.235415</td>\n",
       "    </tr>\n",
       "    <tr>\n",
       "      <th>4271</th>\n",
       "      <td>Oud Malaki Chopard for men</td>\n",
       "      <td>0.175820</td>\n",
       "    </tr>\n",
       "  </tbody>\n",
       "</table>\n",
       "<p>4272 rows × 2 columns</p>\n",
       "</div>"
      ],
      "text/plain": [
       "                                                  title         2\n",
       "0     Miss Dior Cherie Eau de Parfum Christian Dior ...  0.514436\n",
       "1                       Hanae Mori Hanae Mori for women  0.510221\n",
       "2                Mon Paris Yves Saint Laurent for women  1.000000\n",
       "3                   Mukhallat Montale for women and men  0.687688\n",
       "4                        Roses Elixir Montale for women  0.489899\n",
       "...                                                 ...       ...\n",
       "4267                Vamp à NY Honore des Pres for women  0.504287\n",
       "4268                        So Pretty Cartier for women  0.258121\n",
       "4269                   Ultraviolet Paco Rabanne for men  0.216105\n",
       "4270                       Venice Yves Rocher for women  0.235415\n",
       "4271                         Oud Malaki Chopard for men  0.175820\n",
       "\n",
       "[4272 rows x 2 columns]"
      ]
     },
     "execution_count": 20,
     "metadata": {},
     "output_type": "execute_result"
    }
   ],
   "source": [
    "#adding index to data frame\n",
    "corrolation_concat.reset_index()"
   ]
  },
  {
   "cell_type": "code",
   "execution_count": 21,
   "metadata": {},
   "outputs": [],
   "source": [
    "#sorting the similarity data frame from most to least similar\n",
    "corrolation_concat.sort_values(by = [index_val], inplace = True, ascending=False)\n",
    "corrolation_concat.reset_index(inplace = True)"
   ]
  },
  {
   "cell_type": "code",
   "execution_count": 22,
   "metadata": {},
   "outputs": [
    {
     "data": {
      "text/plain": [
       "1                        Deci Dela Nina Ricci for women\n",
       "2                            Twirl Kate Spade for women\n",
       "3                        Heiress Paris Hilton for women\n",
       "4                     Hedonist Viktoria Minya for women\n",
       "5                      Play It Lovely Playboy for women\n",
       "6            Fath de Fath (1993) Jacques Fath for women\n",
       "7                  Gorgeous Victoria's Secret for women\n",
       "8              Glow after Dark Jennifer Lopez for women\n",
       "9     La Petite Robe Noire Eau de Toilette Guerlain ...\n",
       "10                    Dalissime Salvador Dali for women\n",
       "Name: title, dtype: object"
      ]
     },
     "execution_count": 22,
     "metadata": {},
     "output_type": "execute_result"
    }
   ],
   "source": [
    "#starting from second value (first value is the target perfume itself) listing 10 most similar perfumes\n",
    "corrolation_concat[1:11]['title']"
   ]
  }
 ],
 "metadata": {
  "kernelspec": {
   "display_name": "Python 3",
   "language": "python",
   "name": "python3"
  },
  "language_info": {
   "codemirror_mode": {
    "name": "ipython",
    "version": 3
   },
   "file_extension": ".py",
   "mimetype": "text/x-python",
   "name": "python",
   "nbconvert_exporter": "python",
   "pygments_lexer": "ipython3",
   "version": "3.8.5"
  }
 },
 "nbformat": 4,
 "nbformat_minor": 4
}
